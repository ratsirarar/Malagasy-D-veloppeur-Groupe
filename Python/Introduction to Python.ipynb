{
 "metadata": {
  "name": "Introduction to Python"
 },
 "nbformat": 3,
 "nbformat_minor": 0,
 "worksheets": [
  {
   "cells": [
    {
     "cell_type": "heading",
     "level": 2,
     "metadata": {},
     "source": [
      "Introduire Python dans votre arsenale"
     ]
    },
    {
     "cell_type": "raw",
     "metadata": {},
     "source": [
      "Python gagne popularitE de jour en jour. C'est un language de programmation qui promote la \"facilitE de lire\". Il a ete creE par le \"Dictateur benevolent pour la vie\" Guido van Rossum (travaille a DropBox en ce moment). Python est open source, c'est a dire que tout le monde peut l'utiliser gratuitement et qu'on peut modifier son code source. "
     ]
    },
    {
     "cell_type": "code",
     "collapsed": false,
     "input": [
      "#output avec python:\n",
      "print \"Ceci est un example de output \" "
     ],
     "language": "python",
     "metadata": {},
     "outputs": [
      {
       "output_type": "stream",
       "stream": "stdout",
       "text": [
        "Ceci est un example de output \n"
       ]
      }
     ],
     "prompt_number": 6
    },
    {
     "cell_type": "heading",
     "level": 4,
     "metadata": {},
     "source": [
      "\n",
      "\n",
      "Qu'est ce que Python peut faire?\n"
     ]
    },
    {
     "cell_type": "raw",
     "metadata": {},
     "source": [
      "Python est utilisE dans plusieur domaine: application financi\u00e8re, prototyping, statistics, ... et a plusieurs populaire packages creer par la communitE tel que \"Django\" pour le web, \"numpy\" pour les application avec matrice, vecteur et quelque statistique function de base, \"Panda\" version Microsoft Excell dans le domaine financiere. "
     ]
    },
    {
     "cell_type": "heading",
     "level": 4,
     "metadata": {},
     "source": [
      "Les versions de Python:"
     ]
    },
    {
     "cell_type": "raw",
     "metadata": {},
     "source": [
      "Python a plusieurs different implementation tel que Jyhton (Java), Cpython (C), IronPython (.net). Le plus populaire est Cpython 2.7."
     ]
    },
    {
     "cell_type": "heading",
     "level": 4,
     "metadata": {},
     "source": [
      "Python et ses miracles:"
     ]
    },
    {
     "cell_type": "raw",
     "metadata": {},
     "source": [
      "Un Pythonista (python programmeur enthusiaste) qui ecrit 20 lignes de code peut equivaloir a 100 lignes de code en JAVA ou autre languages.\n"
     ]
    },
    {
     "cell_type": "code",
     "collapsed": false,
     "input": [
      "# Ceci est un example de class en C#\n",
      "\n",
      "public class Test()\n",
      "{\n",
      "    public string name {get; set;}\n",
      "    \n",
      "     \n",
      "    \n",
      "    public Test(string nm) {\n",
      "        name = nm\n",
      "    }\n",
      "\n",
      "    public int[] boucle_for() {\n",
      "        int[] boucle_var = new int[3]\n",
      "        for (int i=0; i<3;i++)\n",
      "        {\n",
      "         boucle_var[i] = i\n",
      "        }\n",
      "    return boucle_var\n",
      "    }\n",
      "}\n",
      "\n",
      "instance_test = new Test(\"oups!\");\n",
      "instance_test.boucle_var();"
     ],
     "language": "python",
     "metadata": {},
     "outputs": []
    },
    {
     "cell_type": "code",
     "collapsed": false,
     "input": [
      "# example class en python\n",
      "\n",
      "class Test():\n",
      "    def __init__(self, nm):\n",
      "        self.name = nm\n",
      "    \n",
      "    def boucle_var(self):\n",
      "        return [i for i in range(3)]\n",
      "    \n",
      "instance_test = Test(\"Yay! Python\")\n",
      "print instance_test.boucle_var()"
     ],
     "language": "python",
     "metadata": {},
     "outputs": [
      {
       "output_type": "stream",
       "stream": "stdout",
       "text": [
        "[0, 1, 2]\n"
       ]
      }
     ],
     "prompt_number": 12
    },
    {
     "cell_type": "heading",
     "level": 4,
     "metadata": {},
     "source": [
      "Resources:"
     ]
    },
    {
     "cell_type": "raw",
     "metadata": {},
     "source": [
      "http://fr.wikipedia.org/wiki/Python_%28langage%29\n",
      "\n",
      "http://www.python.org\n",
      "\n"
     ]
    },
    {
     "cell_type": "raw",
     "metadata": {},
     "source": []
    },
    {
     "cell_type": "raw",
     "metadata": {},
     "source": [
      "Auteur: Andy R"
     ]
    }
   ],
   "metadata": {}
  }
 ]
}